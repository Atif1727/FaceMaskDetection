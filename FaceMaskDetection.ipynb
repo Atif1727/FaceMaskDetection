{
 "cells": [
  {
   "cell_type": "code",
   "execution_count": 15,
   "metadata": {
    "executionInfo": {
     "elapsed": 843,
     "status": "ok",
     "timestamp": 1665839262676,
     "user": {
      "displayName": "Ghogha Atif",
      "userId": "06999200910860427363"
     },
     "user_tz": -330
    },
    "id": "PsXG1xqgl_r0"
   },
   "outputs": [],
   "source": [
    "import os\n",
    "import cv2\n",
    "import numpy as np\n",
    "import random\n",
    "from google.colab.patches import cv2_imshow\n",
    "from keras.preprocessing import image"
   ]
  },
  {
   "cell_type": "code",
   "execution_count": 2,
   "metadata": {
    "executionInfo": {
     "elapsed": 702,
     "status": "ok",
     "timestamp": 1665837132941,
     "user": {
      "displayName": "Ghogha Atif",
      "userId": "06999200910860427363"
     },
     "user_tz": -330
    },
    "id": "aJwiKVhmoNKi"
   },
   "outputs": [],
   "source": [
    "categories=['with_mask','without_mask']"
   ]
  },
  {
   "cell_type": "code",
   "execution_count": 7,
   "metadata": {
    "executionInfo": {
     "elapsed": 696689,
     "status": "ok",
     "timestamp": 1665838566970,
     "user": {
      "displayName": "Ghogha Atif",
      "userId": "06999200910860427363"
     },
     "user_tz": -330
    },
    "id": "CZIAjnkmoWaC"
   },
   "outputs": [],
   "source": [
    "data=[]\n",
    "for category in categories:\n",
    "  path=os.path.join(\"/content/drive/MyDrive/Deep learning/data\",category)\n",
    "\n",
    "  label=categories.index(category)\n",
    "  for file in os.listdir(path):\n",
    "    img_path=os.path.join(path,file)\n",
    "    img=cv2.imread(img_path)\n",
    "    img=cv2.resize(img,(224,224))\n",
    "    \n",
    "    data.append([img,label])"
   ]
  },
  {
   "cell_type": "code",
   "execution_count": 8,
   "metadata": {
    "colab": {
     "base_uri": "https://localhost:8080/"
    },
    "executionInfo": {
     "elapsed": 689,
     "status": "ok",
     "timestamp": 1665839010320,
     "user": {
      "displayName": "Ghogha Atif",
      "userId": "06999200910860427363"
     },
     "user_tz": -330
    },
    "id": "R3yiYX2Xo-PW",
    "outputId": "0d0cbc3f-9d96-4542-8b79-f0191e36bdce"
   },
   "outputs": [
    {
     "data": {
      "text/plain": [
       "1376"
      ]
     },
     "execution_count": 8,
     "metadata": {},
     "output_type": "execute_result"
    }
   ],
   "source": [
    "len(data)"
   ]
  },
  {
   "cell_type": "code",
   "execution_count": 11,
   "metadata": {
    "executionInfo": {
     "elapsed": 6,
     "status": "ok",
     "timestamp": 1665839096979,
     "user": {
      "displayName": "Ghogha Atif",
      "userId": "06999200910860427363"
     },
     "user_tz": -330
    },
    "id": "GUT843IGvgfb"
   },
   "outputs": [],
   "source": [
    "random.shuffle(data)"
   ]
  },
  {
   "cell_type": "code",
   "execution_count": 12,
   "metadata": {
    "executionInfo": {
     "elapsed": 993,
     "status": "ok",
     "timestamp": 1665839203498,
     "user": {
      "displayName": "Ghogha Atif",
      "userId": "06999200910860427363"
     },
     "user_tz": -330
    },
    "id": "JZ3uY2RVvz4I"
   },
   "outputs": [],
   "source": [
    "x=[]\n",
    "y=[]\n",
    "for feature,label in data:\n",
    "  x.append(feature)\n",
    "  y.append(label)"
   ]
  },
  {
   "cell_type": "code",
   "execution_count": 16,
   "metadata": {
    "executionInfo": {
     "elapsed": 592,
     "status": "ok",
     "timestamp": 1665839326684,
     "user": {
      "displayName": "Ghogha Atif",
      "userId": "06999200910860427363"
     },
     "user_tz": -330
    },
    "id": "piDf_O9zwP1D"
   },
   "outputs": [],
   "source": [
    "x=np.array(x)\n",
    "y=np.array(y)"
   ]
  },
  {
   "cell_type": "code",
   "execution_count": 17,
   "metadata": {
    "colab": {
     "base_uri": "https://localhost:8080/"
    },
    "executionInfo": {
     "elapsed": 893,
     "status": "ok",
     "timestamp": 1665839338269,
     "user": {
      "displayName": "Ghogha Atif",
      "userId": "06999200910860427363"
     },
     "user_tz": -330
    },
    "id": "rFFPw1k9wQ1L",
    "outputId": "58f7aa52-7107-4ba7-82bb-d70837637f91"
   },
   "outputs": [
    {
     "data": {
      "text/plain": [
       "((1376, 224, 224, 3), (1376,))"
      ]
     },
     "execution_count": 17,
     "metadata": {},
     "output_type": "execute_result"
    }
   ],
   "source": [
    "x.shape,y.shape"
   ]
  },
  {
   "cell_type": "code",
   "execution_count": 18,
   "metadata": {
    "executionInfo": {
     "elapsed": 615,
     "status": "ok",
     "timestamp": 1665839389653,
     "user": {
      "displayName": "Ghogha Atif",
      "userId": "06999200910860427363"
     },
     "user_tz": -330
    },
    "id": "9CdzTkYzwwqK"
   },
   "outputs": [],
   "source": [
    "x=x/255"
   ]
  },
  {
   "cell_type": "code",
   "execution_count": 19,
   "metadata": {
    "executionInfo": {
     "elapsed": 718,
     "status": "ok",
     "timestamp": 1665839453972,
     "user": {
      "displayName": "Ghogha Atif",
      "userId": "06999200910860427363"
     },
     "user_tz": -330
    },
    "id": "VM0UiMezw9Xe"
   },
   "outputs": [],
   "source": [
    "from sklearn.model_selection import train_test_split\n",
    "X_train,X_test,y_train,y_test=train_test_split(x,y,test_size=0.2)"
   ]
  },
  {
   "cell_type": "code",
   "execution_count": 20,
   "metadata": {
    "colab": {
     "base_uri": "https://localhost:8080/"
    },
    "executionInfo": {
     "elapsed": 617,
     "status": "ok",
     "timestamp": 1665839466760,
     "user": {
      "displayName": "Ghogha Atif",
      "userId": "06999200910860427363"
     },
     "user_tz": -330
    },
    "id": "JrPp6Oy4xNDf",
    "outputId": "b4607624-f02d-471c-baf1-3fb8cbbd8b23"
   },
   "outputs": [
    {
     "data": {
      "text/plain": [
       "((1100, 224, 224, 3), (1100,))"
      ]
     },
     "execution_count": 20,
     "metadata": {},
     "output_type": "execute_result"
    }
   ],
   "source": [
    "X_train.shape,y_train.shape"
   ]
  },
  {
   "cell_type": "code",
   "execution_count": 31,
   "metadata": {
    "executionInfo": {
     "elapsed": 6,
     "status": "ok",
     "timestamp": 1665839921833,
     "user": {
      "displayName": "Ghogha Atif",
      "userId": "06999200910860427363"
     },
     "user_tz": -330
    },
    "id": "bC4CtGSgxQDM"
   },
   "outputs": [],
   "source": [
    "from keras.applications.vgg16 import VGG16\n",
    "from keras.models import Sequential\n",
    "from keras.layers import Dense"
   ]
  },
  {
   "cell_type": "code",
   "execution_count": 24,
   "metadata": {
    "colab": {
     "base_uri": "https://localhost:8080/"
    },
    "executionInfo": {
     "elapsed": 12639,
     "status": "ok",
     "timestamp": 1665839664770,
     "user": {
      "displayName": "Ghogha Atif",
      "userId": "06999200910860427363"
     },
     "user_tz": -330
    },
    "id": "3VPDDZ8cxyK8",
    "outputId": "47c77be9-4913-45b1-bd44-f6c58e4771d9"
   },
   "outputs": [
    {
     "name": "stdout",
     "output_type": "stream",
     "text": [
      "Downloading data from https://storage.googleapis.com/tensorflow/keras-applications/vgg16/vgg16_weights_tf_dim_ordering_tf_kernels.h5\n",
      "553467096/553467096 [==============================] - 7s 0us/step\n"
     ]
    }
   ],
   "source": [
    "vgg=VGG16()"
   ]
  },
  {
   "cell_type": "code",
   "execution_count": 25,
   "metadata": {
    "executionInfo": {
     "elapsed": 650,
     "status": "ok",
     "timestamp": 1665839732116,
     "user": {
      "displayName": "Ghogha Atif",
      "userId": "06999200910860427363"
     },
     "user_tz": -330
    },
    "id": "omWIQBVgyPby"
   },
   "outputs": [],
   "source": [
    "model=Sequential()"
   ]
  },
  {
   "cell_type": "code",
   "execution_count": 27,
   "metadata": {
    "executionInfo": {
     "elapsed": 1026,
     "status": "ok",
     "timestamp": 1665839759505,
     "user": {
      "displayName": "Ghogha Atif",
      "userId": "06999200910860427363"
     },
     "user_tz": -330
    },
    "id": "Tk79XT8cx9n5"
   },
   "outputs": [],
   "source": [
    "for layer in vgg.layers[:-1]:\n",
    "  model.add(layer)"
   ]
  },
  {
   "cell_type": "code",
   "execution_count": 28,
   "metadata": {
    "colab": {
     "base_uri": "https://localhost:8080/"
    },
    "executionInfo": {
     "elapsed": 40,
     "status": "ok",
     "timestamp": 1665839767814,
     "user": {
      "displayName": "Ghogha Atif",
      "userId": "06999200910860427363"
     },
     "user_tz": -330
    },
    "id": "zrywttLwyTqu",
    "outputId": "d1082953-4379-4afe-a7fa-68ae3f613443"
   },
   "outputs": [
    {
     "name": "stdout",
     "output_type": "stream",
     "text": [
      "Model: \"sequential\"\n",
      "_________________________________________________________________\n",
      " Layer (type)                Output Shape              Param #   \n",
      "=================================================================\n",
      " block1_conv1 (Conv2D)       (None, 224, 224, 64)      1792      \n",
      "                                                                 \n",
      " block1_conv2 (Conv2D)       (None, 224, 224, 64)      36928     \n",
      "                                                                 \n",
      " block1_pool (MaxPooling2D)  (None, 112, 112, 64)      0         \n",
      "                                                                 \n",
      " block2_conv1 (Conv2D)       (None, 112, 112, 128)     73856     \n",
      "                                                                 \n",
      " block2_conv2 (Conv2D)       (None, 112, 112, 128)     147584    \n",
      "                                                                 \n",
      " block2_pool (MaxPooling2D)  (None, 56, 56, 128)       0         \n",
      "                                                                 \n",
      " block3_conv1 (Conv2D)       (None, 56, 56, 256)       295168    \n",
      "                                                                 \n",
      " block3_conv2 (Conv2D)       (None, 56, 56, 256)       590080    \n",
      "                                                                 \n",
      " block3_conv3 (Conv2D)       (None, 56, 56, 256)       590080    \n",
      "                                                                 \n",
      " block3_pool (MaxPooling2D)  (None, 28, 28, 256)       0         \n",
      "                                                                 \n",
      " block4_conv1 (Conv2D)       (None, 28, 28, 512)       1180160   \n",
      "                                                                 \n",
      " block4_conv2 (Conv2D)       (None, 28, 28, 512)       2359808   \n",
      "                                                                 \n",
      " block4_conv3 (Conv2D)       (None, 28, 28, 512)       2359808   \n",
      "                                                                 \n",
      " block4_pool (MaxPooling2D)  (None, 14, 14, 512)       0         \n",
      "                                                                 \n",
      " block5_conv1 (Conv2D)       (None, 14, 14, 512)       2359808   \n",
      "                                                                 \n",
      " block5_conv2 (Conv2D)       (None, 14, 14, 512)       2359808   \n",
      "                                                                 \n",
      " block5_conv3 (Conv2D)       (None, 14, 14, 512)       2359808   \n",
      "                                                                 \n",
      " block5_pool (MaxPooling2D)  (None, 7, 7, 512)         0         \n",
      "                                                                 \n",
      " flatten (Flatten)           (None, 25088)             0         \n",
      "                                                                 \n",
      " fc1 (Dense)                 (None, 4096)              102764544 \n",
      "                                                                 \n",
      " fc2 (Dense)                 (None, 4096)              16781312  \n",
      "                                                                 \n",
      "=================================================================\n",
      "Total params: 134,260,544\n",
      "Trainable params: 134,260,544\n",
      "Non-trainable params: 0\n",
      "_________________________________________________________________\n"
     ]
    }
   ],
   "source": [
    "model.summary()"
   ]
  },
  {
   "cell_type": "code",
   "execution_count": 29,
   "metadata": {
    "executionInfo": {
     "elapsed": 904,
     "status": "ok",
     "timestamp": 1665839828315,
     "user": {
      "displayName": "Ghogha Atif",
      "userId": "06999200910860427363"
     },
     "user_tz": -330
    },
    "id": "FEMCn52LyZnr"
   },
   "outputs": [],
   "source": [
    "for layer in model.layers:\n",
    "  layer.trainable=False"
   ]
  },
  {
   "cell_type": "code",
   "execution_count": 32,
   "metadata": {
    "executionInfo": {
     "elapsed": 819,
     "status": "ok",
     "timestamp": 1665839926542,
     "user": {
      "displayName": "Ghogha Atif",
      "userId": "06999200910860427363"
     },
     "user_tz": -330
    },
    "id": "bxvtIrrNyoEJ"
   },
   "outputs": [],
   "source": [
    "model.add(Dense(1,activation='sigmoid'))"
   ]
  },
  {
   "cell_type": "code",
   "execution_count": 33,
   "metadata": {
    "colab": {
     "base_uri": "https://localhost:8080/"
    },
    "executionInfo": {
     "elapsed": 1670,
     "status": "ok",
     "timestamp": 1665839935925,
     "user": {
      "displayName": "Ghogha Atif",
      "userId": "06999200910860427363"
     },
     "user_tz": -330
    },
    "id": "G-GVEHWGy39I",
    "outputId": "0af531b8-728f-4208-f13e-e0962ab614f2"
   },
   "outputs": [
    {
     "name": "stdout",
     "output_type": "stream",
     "text": [
      "Model: \"sequential\"\n",
      "_________________________________________________________________\n",
      " Layer (type)                Output Shape              Param #   \n",
      "=================================================================\n",
      " block1_conv1 (Conv2D)       (None, 224, 224, 64)      1792      \n",
      "                                                                 \n",
      " block1_conv2 (Conv2D)       (None, 224, 224, 64)      36928     \n",
      "                                                                 \n",
      " block1_pool (MaxPooling2D)  (None, 112, 112, 64)      0         \n",
      "                                                                 \n",
      " block2_conv1 (Conv2D)       (None, 112, 112, 128)     73856     \n",
      "                                                                 \n",
      " block2_conv2 (Conv2D)       (None, 112, 112, 128)     147584    \n",
      "                                                                 \n",
      " block2_pool (MaxPooling2D)  (None, 56, 56, 128)       0         \n",
      "                                                                 \n",
      " block3_conv1 (Conv2D)       (None, 56, 56, 256)       295168    \n",
      "                                                                 \n",
      " block3_conv2 (Conv2D)       (None, 56, 56, 256)       590080    \n",
      "                                                                 \n",
      " block3_conv3 (Conv2D)       (None, 56, 56, 256)       590080    \n",
      "                                                                 \n",
      " block3_pool (MaxPooling2D)  (None, 28, 28, 256)       0         \n",
      "                                                                 \n",
      " block4_conv1 (Conv2D)       (None, 28, 28, 512)       1180160   \n",
      "                                                                 \n",
      " block4_conv2 (Conv2D)       (None, 28, 28, 512)       2359808   \n",
      "                                                                 \n",
      " block4_conv3 (Conv2D)       (None, 28, 28, 512)       2359808   \n",
      "                                                                 \n",
      " block4_pool (MaxPooling2D)  (None, 14, 14, 512)       0         \n",
      "                                                                 \n",
      " block5_conv1 (Conv2D)       (None, 14, 14, 512)       2359808   \n",
      "                                                                 \n",
      " block5_conv2 (Conv2D)       (None, 14, 14, 512)       2359808   \n",
      "                                                                 \n",
      " block5_conv3 (Conv2D)       (None, 14, 14, 512)       2359808   \n",
      "                                                                 \n",
      " block5_pool (MaxPooling2D)  (None, 7, 7, 512)         0         \n",
      "                                                                 \n",
      " flatten (Flatten)           (None, 25088)             0         \n",
      "                                                                 \n",
      " fc1 (Dense)                 (None, 4096)              102764544 \n",
      "                                                                 \n",
      " fc2 (Dense)                 (None, 4096)              16781312  \n",
      "                                                                 \n",
      " dense (Dense)               (None, 1)                 4097      \n",
      "                                                                 \n",
      "=================================================================\n",
      "Total params: 134,264,641\n",
      "Trainable params: 4,097\n",
      "Non-trainable params: 134,260,544\n",
      "_________________________________________________________________\n"
     ]
    }
   ],
   "source": [
    "model.summary()"
   ]
  },
  {
   "cell_type": "code",
   "execution_count": 34,
   "metadata": {
    "executionInfo": {
     "elapsed": 703,
     "status": "ok",
     "timestamp": 1665839991865,
     "user": {
      "displayName": "Ghogha Atif",
      "userId": "06999200910860427363"
     },
     "user_tz": -330
    },
    "id": "NEFIspYbzCVf"
   },
   "outputs": [],
   "source": [
    "model.compile(optimizer='Adam',loss='binary_crossentropy',metrics=['accuracy'])"
   ]
  },
  {
   "cell_type": "code",
   "execution_count": 35,
   "metadata": {
    "colab": {
     "base_uri": "https://localhost:8080/"
    },
    "executionInfo": {
     "elapsed": 51494,
     "status": "ok",
     "timestamp": 1665840116856,
     "user": {
      "displayName": "Ghogha Atif",
      "userId": "06999200910860427363"
     },
     "user_tz": -330
    },
    "id": "wQldM6EbzQYL",
    "outputId": "2107e945-af9f-4588-d186-e673cff61adc"
   },
   "outputs": [
    {
     "name": "stdout",
     "output_type": "stream",
     "text": [
      "Epoch 1/5\n",
      "35/35 [==============================] - 22s 311ms/step - loss: 0.4903 - accuracy: 0.8118 - val_loss: 0.3527 - val_accuracy: 0.8986\n",
      "Epoch 2/5\n",
      "35/35 [==============================] - 7s 201ms/step - loss: 0.2902 - accuracy: 0.9236 - val_loss: 0.2858 - val_accuracy: 0.8949\n",
      "Epoch 3/5\n",
      "35/35 [==============================] - 7s 202ms/step - loss: 0.2262 - accuracy: 0.9309 - val_loss: 0.2017 - val_accuracy: 0.9275\n",
      "Epoch 4/5\n",
      "35/35 [==============================] - 7s 203ms/step - loss: 0.1915 - accuracy: 0.9382 - val_loss: 0.1812 - val_accuracy: 0.9457\n",
      "Epoch 5/5\n",
      "35/35 [==============================] - 7s 205ms/step - loss: 0.1550 - accuracy: 0.9582 - val_loss: 0.1568 - val_accuracy: 0.9457\n"
     ]
    },
    {
     "data": {
      "text/plain": [
       "<keras.callbacks.History at 0x7f97e00a9390>"
      ]
     },
     "execution_count": 35,
     "metadata": {},
     "output_type": "execute_result"
    }
   ],
   "source": [
    "model.fit(X_train,y_train,epochs=5,validation_data=(X_test,y_test))"
   ]
  },
  {
   "cell_type": "code",
   "execution_count": 36,
   "metadata": {
    "executionInfo": {
     "elapsed": 4346,
     "status": "ok",
     "timestamp": 1665840390738,
     "user": {
      "displayName": "Ghogha Atif",
      "userId": "06999200910860427363"
     },
     "user_tz": -330
    },
    "id": "z0AoVMZczigz"
   },
   "outputs": [],
   "source": [
    "model.save(\"/content/drive/MyDrive/Colab Notebooks/model.h5\")"
   ]
  },
  {
   "cell_type": "code",
   "execution_count": null,
   "metadata": {},
   "outputs": [],
   "source": [
    "import numpy as np\n",
    "import pandas as pd\n",
    "import cv2\n",
    "import tensorflow\n",
    "from tensorflow.keras.models import load_model"
   ]
  },
  {
   "cell_type": "code",
   "execution_count": null,
   "metadata": {},
   "outputs": [],
   "source": [
    "model = load_model(\"model_new.h5\")\n",
    "def detect_face(img):\n",
    "    predict_y = (model.predict(img.reshape(1,224,224,3)) > 0.5).astype(\"int32\")\n",
    "    return predict_y[0][0]\n"
   ]
  },
  {
   "cell_type": "code",
   "execution_count": 63,
   "metadata": {},
   "outputs": [
    {
     "ename": "ValueError",
     "evalue": "cannot reshape array of size 163968 into shape (1,224,224,3)",
     "output_type": "error",
     "traceback": [
      "\u001b[1;31m---------------------------------------------------------------------------\u001b[0m",
      "\u001b[1;31mValueError\u001b[0m                                Traceback (most recent call last)",
      "Input \u001b[1;32mIn [63]\u001b[0m, in \u001b[0;36m<cell line: 10>\u001b[1;34m()\u001b[0m\n\u001b[0;32m     11\u001b[0m ret, frame \u001b[38;5;241m=\u001b[39m cap\u001b[38;5;241m.\u001b[39mread()\n\u001b[0;32m     12\u001b[0m frame\u001b[38;5;241m=\u001b[39mcv2\u001b[38;5;241m.\u001b[39mresize(frame,(\u001b[38;5;241m224\u001b[39m,\u001b[38;5;241m244\u001b[39m))\n\u001b[1;32m---> 13\u001b[0m y_pred\u001b[38;5;241m=\u001b[39m\u001b[43mdetect_face\u001b[49m\u001b[43m(\u001b[49m\u001b[43mframe\u001b[49m\u001b[43m)\u001b[49m\n\u001b[0;32m     15\u001b[0m \u001b[38;5;28mprint\u001b[39m(y_pred)\n\u001b[0;32m     17\u001b[0m cv2\u001b[38;5;241m.\u001b[39mimshow(\u001b[38;5;124m\"\u001b[39m\u001b[38;5;124mWindow\u001b[39m\u001b[38;5;124m\"\u001b[39m, frame)\n",
      "Input \u001b[1;32mIn [62]\u001b[0m, in \u001b[0;36mdetect_face\u001b[1;34m(img)\u001b[0m\n\u001b[0;32m     11\u001b[0m \u001b[38;5;28;01mdef\u001b[39;00m \u001b[38;5;21mdetect_face\u001b[39m(img):\n\u001b[1;32m---> 12\u001b[0m     predict_y \u001b[38;5;241m=\u001b[39m (model\u001b[38;5;241m.\u001b[39mpredict(\u001b[43mimg\u001b[49m\u001b[38;5;241;43m.\u001b[39;49m\u001b[43mreshape\u001b[49m\u001b[43m(\u001b[49m\u001b[38;5;241;43m1\u001b[39;49m\u001b[43m,\u001b[49m\u001b[38;5;241;43m224\u001b[39;49m\u001b[43m,\u001b[49m\u001b[38;5;241;43m224\u001b[39;49m\u001b[43m,\u001b[49m\u001b[38;5;241;43m3\u001b[39;49m\u001b[43m)\u001b[49m) \u001b[38;5;241m>\u001b[39m \u001b[38;5;241m0.5\u001b[39m)\u001b[38;5;241m.\u001b[39mastype(\u001b[38;5;124m\"\u001b[39m\u001b[38;5;124mint32\u001b[39m\u001b[38;5;124m\"\u001b[39m)\n\u001b[0;32m     13\u001b[0m     \u001b[38;5;28;01mreturn\u001b[39;00m predict_y[\u001b[38;5;241m0\u001b[39m][\u001b[38;5;241m0\u001b[39m]\n",
      "\u001b[1;31mValueError\u001b[0m: cannot reshape array of size 163968 into shape (1,224,224,3)"
     ]
    }
   ],
   "source": [
    "\n",
    "\n",
    "\n",
    "# sample=cv2.imread(\"without.jpg\")\n",
    "# sample=cv2.resize(sample,(224,224))\n",
    "\n",
    "\n",
    "\n",
    "\n",
    "\n",
    "cap = cv2.VideoCapture(0)\n",
    "\n",
    "while True:\n",
    "    ret, frame = cap.read()\n",
    "    frame=cv2.resize(frame,(224,244))\n",
    "    y_pred=detect_face(frame)\n",
    "\n",
    "    print(y_pred)\n",
    "\n",
    "    cv2.imshow(\"Window\", frame)\n",
    "\n",
    "    if cv2.waitKey(1) & 0xFF == ord('x'):\n",
    "        break\n",
    "cv2.destroyAllWindows()"
   ]
  },
  {
   "cell_type": "code",
   "execution_count": null,
   "metadata": {},
   "outputs": [],
   "source": []
  }
 ],
 "metadata": {
  "accelerator": "GPU",
  "colab": {
   "authorship_tag": "ABX9TyOld7ZgyIprTtnPcJ1T2HDN",
   "mount_file_id": "1bvH1jwaEX89xsEEdGIJiMZS_M5H-sJZz",
   "provenance": []
  },
  "kernelspec": {
   "display_name": "Python 3 (ipykernel)",
   "language": "python",
   "name": "python3"
  },
  "language_info": {
   "codemirror_mode": {
    "name": "ipython",
    "version": 3
   },
   "file_extension": ".py",
   "mimetype": "text/x-python",
   "name": "python",
   "nbconvert_exporter": "python",
   "pygments_lexer": "ipython3",
   "version": "3.10.6"
  }
 },
 "nbformat": 4,
 "nbformat_minor": 1
}
